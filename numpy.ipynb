{
 "cells": [
  {
   "cell_type": "code",
   "execution_count": null,
   "metadata": {},
   "outputs": [
    {
     "name": "stdout",
     "output_type": "stream",
     "text": [
      "[ 12.23  13.32 100.    36.32]\n"
     ]
    }
   ],
   "source": [
    "# 1 convert list to 1-d array\n",
    "import numpy as np\n",
    "\n",
    "a = [12.23,13.32,100,36.32]\n",
    "\n",
    "arr = np.array(a)\n",
    "print(arr)"
   ]
  },
  {
   "cell_type": "code",
   "execution_count": 6,
   "metadata": {},
   "outputs": [
    {
     "name": "stdout",
     "output_type": "stream",
     "text": [
      "[[ 2  3  4]\n",
      " [ 5  6  7]\n",
      " [ 8  9 10]]\n"
     ]
    }
   ],
   "source": [
    "# 2) 3X3 matrix\n",
    "import numpy as np\n",
    "\n",
    "arr = np.arange(2,11).reshape(3,3)\n",
    "print(arr)"
   ]
  },
  {
   "cell_type": "code",
   "execution_count": 12,
   "metadata": {},
   "outputs": [
    {
     "name": "stdout",
     "output_type": "stream",
     "text": [
      "[0. 0. 0. 0. 0. 0. 0. 0. 0. 0.]\n",
      "[ 0.  0.  0.  0.  0. 11.  0.  0.  0.  0.]\n"
     ]
    }
   ],
   "source": [
    "# 3) null vector of size 10\n",
    "import numpy as np\n",
    "arr = np.zeros(10)\n",
    "print(arr)\n",
    "arr[5] = 11\n",
    "print(arr)\n",
    "\n"
   ]
  },
  {
   "cell_type": "code",
   "execution_count": 8,
   "metadata": {},
   "outputs": [
    {
     "name": "stdout",
     "output_type": "stream",
     "text": [
      "[37 36 35 34 33 32 31 30 29 28 27 26 25 24 23 22 21 20 19 18 17 16 15 14\n",
      " 13 12]\n"
     ]
    }
   ],
   "source": [
    "# 4) Reverse an array\n",
    "import numpy as np\n",
    "\n",
    "arr = np.arange(12,38)\n",
    "\n",
    "print(arr[::-1])"
   ]
  },
  {
   "cell_type": "code",
   "execution_count": 17,
   "metadata": {},
   "outputs": [
    {
     "name": "stdout",
     "output_type": "stream",
     "text": [
      "[[0 0 0 0 0]\n",
      " [0 0 0 0 0]\n",
      " [0 0 0 0 0]\n",
      " [0 0 0 0 0]\n",
      " [0 0 0 0 0]]\n",
      "[[1 1 1 1 1]\n",
      " [1 0 0 0 1]\n",
      " [1 0 0 0 1]\n",
      " [1 0 0 0 1]\n",
      " [1 1 1 1 1]]\n"
     ]
    }
   ],
   "source": [
    "#5) 2D array with 1 border\n",
    "import numpy as np\n",
    "rows = 5\n",
    "cols = 5\n",
    "arr = np.zeros((rows,cols), dtype=int)\n",
    "print(arr)\n",
    "arr[0,:] =1\n",
    "arr[-1,:]=1\n",
    "arr[:,0]=1\n",
    "arr[:,-1]=1\n",
    "\n",
    "print(arr)\n",
    "\n"
   ]
  },
  {
   "cell_type": "code",
   "execution_count": 48,
   "metadata": {},
   "outputs": [
    {
     "name": "stdout",
     "output_type": "stream",
     "text": [
      "[[1. 1. 1.]\n",
      " [1. 1. 1.]\n",
      " [1. 1. 1.]]\n",
      "\n",
      " [[0. 0. 0. 0. 0.]\n",
      " [0. 1. 1. 1. 0.]\n",
      " [0. 1. 1. 1. 0.]\n",
      " [0. 1. 1. 1. 0.]\n",
      " [0. 0. 0. 0. 0.]]\n"
     ]
    }
   ],
   "source": [
    "#6) border with 0\n",
    "arr = np.ones((3,3))\n",
    "print(arr)\n",
    "border = np.zeros((5,5))\n",
    "border[1:-1,1:-1] = arr\n",
    "print('\\n',border)\n"
   ]
  },
  {
   "cell_type": "code",
   "execution_count": null,
   "metadata": {},
   "outputs": [
    {
     "name": "stdout",
     "output_type": "stream",
     "text": [
      "Checkerboard pattern:\n",
      "[[0 1 0 1 0 1 0 1]\n",
      " [1 0 1 0 1 0 1 0]\n",
      " [0 1 0 1 0 1 0 1]\n",
      " [1 0 1 0 1 0 1 0]\n",
      " [0 1 0 1 0 1 0 1]\n",
      " [1 0 1 0 1 0 1 0]\n",
      " [0 1 0 1 0 1 0 1]\n",
      " [1 0 1 0 1 0 1 0]]\n"
     ]
    }
   ],
   "source": [
    "# 7) 8X8 Checkboard pattern\n",
    "import numpy as np\n",
    "\n",
    "\n",
    "checkerboard = np.zeros((8, 8), dtype=int)\n",
    "\n",
    "\n",
    "checkerboard[1::2, ::2] = 1  \n",
    "checkerboard[::2, 1::2] = 1  \n",
    "\n",
    "print(\"Checkerboard pattern:\")\n",
    "print(checkerboard)\n"
   ]
  },
  {
   "cell_type": "code",
   "execution_count": 20,
   "metadata": {},
   "outputs": [
    {
     "name": "stdout",
     "output_type": "stream",
     "text": [
      "[1 2 3 4 5 6 7 8]\n",
      "[[8 4 6]\n",
      " [1 2 3]]\n"
     ]
    }
   ],
   "source": [
    "#list and tuple to array\n",
    "import numpy as np \n",
    "\n",
    "list = [1,2,3,4,5,6,7,8]\n",
    "tuple = ((8,4,6),(1,2,3))\n",
    "\n",
    "array_list = np.array(list)\n",
    "array_tuple = np.array(tuple)\n",
    "\n",
    "print(array_list)\n",
    "print(array_tuple)\n",
    "\n",
    "\n"
   ]
  },
  {
   "cell_type": "code",
   "execution_count": 23,
   "metadata": {},
   "outputs": [
    {
     "name": "stdout",
     "output_type": "stream",
     "text": [
      "[10 20 30 40 50 60 70 80 90]\n"
     ]
    }
   ],
   "source": [
    "# 9) append vales in array\n",
    "import numpy as np\n",
    "\n",
    "arr = np.array([10,20,30])\n",
    "n = 40\n",
    "values = [n + i*10 for i in range (6) ]\n",
    "\n",
    "appended_array = np.append(arr,values)\n",
    "\n",
    "print(appended_array)\n",
    "    \n",
    "\n",
    "\n",
    "\n",
    "\n",
    "\n",
    "\n",
    "\n",
    "\n",
    "\n",
    "    \n",
    "\n",
    "\n"
   ]
  },
  {
   "cell_type": "code",
   "execution_count": 25,
   "metadata": {},
   "outputs": [
    {
     "name": "stdout",
     "output_type": "stream",
     "text": [
      "real part of the array is [1.         0.70710678]\n",
      "imaginary part of the array [0.         0.70710678]\n"
     ]
    }
   ],
   "source": [
    "#10) real and imaginary\n",
    "com_arr = np.array([ 1.00000000+0.j ,0.70710678+0.70710678j])\n",
    "\n",
    "real_part = com_arr.real\n",
    "img_part = com_arr.imag\n",
    "\n",
    "print(f\"real part of the array is {real_part}\")\n",
    "print(f\"imaginary part of the array {img_part}\")\n",
    "\n"
   ]
  },
  {
   "cell_type": "code",
   "execution_count": 27,
   "metadata": {},
   "outputs": [
    {
     "name": "stdout",
     "output_type": "stream",
     "text": [
      "size of array : 6\n",
      "length of one array element is: 8\n",
      "Total bytes consumed by the element of the array :48\n"
     ]
    }
   ],
   "source": [
    "#11 size of array and length of array\n",
    "\n",
    "arr = np.array([10,20,30,40,50,60])\n",
    "\n",
    "print(f\"size of array : {len(arr)}\")\n",
    "print(f\"length of one array element is: {arr.itemsize}\")\n",
    "print(f\"Total bytes consumed by the element of the array :{arr.nbytes}\")\n",
    "\n"
   ]
  },
  {
   "cell_type": "code",
   "execution_count": 28,
   "metadata": {},
   "outputs": [
    {
     "name": "stdout",
     "output_type": "stream",
     "text": [
      "common values between two array:[10 40]\n"
     ]
    }
   ],
   "source": [
    "#12 common values in two array \n",
    "arr1 = np.array([0,10,20,40,60])\n",
    "arrr2 = np.array([10,30,40])\n",
    "print(f\"common values between two array:{np.intersect1d(arr1,arrr2)}\")\n",
    "\n",
    "\n"
   ]
  },
  {
   "cell_type": "code",
   "execution_count": 29,
   "metadata": {},
   "outputs": [
    {
     "name": "stdout",
     "output_type": "stream",
     "text": [
      "set difference between two array:[ 0 20 60 80]\n"
     ]
    }
   ],
   "source": [
    "#13) set difference\n",
    "arr1 = np.array([0,10,20,40,60,80])\n",
    "arrr2 = np.array([10,30,40,50,70,90])\n",
    "print(f\"set difference between two array:{np.setdiff1d(arr1,arrr2)}\")\n",
    "\n"
   ]
  },
  {
   "cell_type": "code",
   "execution_count": 30,
   "metadata": {},
   "outputs": [
    {
     "name": "stdout",
     "output_type": "stream",
     "text": [
      "Unique values that are in only one(not both) of the array:[ 0 20 30 50 60 70 80]\n"
     ]
    }
   ],
   "source": [
    "#14) set-exclusive\n",
    "arr1 = np.array([0,10,20,40,60,80])\n",
    "arrr2 = np.array([10,30,40,50,70])\n",
    "print(f\"Unique values that are in only one(not both) of the array:{np.setxor1d(arr1,arrr2)}\")\n"
   ]
  },
  {
   "cell_type": "code",
   "execution_count": 32,
   "metadata": {},
   "outputs": [
    {
     "name": "stdout",
     "output_type": "stream",
     "text": [
      "a > b\n",
      "[False False]\n",
      "a >= b\n",
      "[False False]\n",
      "a < b\n",
      "[ True  True]\n",
      "a <= b\n",
      "[ True  True]\n"
     ]
    }
   ],
   "source": [
    "#15) compare two array\n",
    "a = np.array([1,2])\n",
    "b = np.array([4,5])\n",
    "\n",
    "print(\"a > b\")\n",
    "print(np.greater(a, a))\n",
    " \n",
    "print(\"a >= b\")\n",
    "print(np.greater_equal(a, b))\n",
    " \n",
    "print(\"a < b\")\n",
    "print(np.less(a, b))\n",
    " \n",
    "print(\"a <= b\")\n",
    "print(np.less_equal(a, b))\n",
    "\n",
    "\n",
    "\n"
   ]
  },
  {
   "cell_type": "code",
   "execution_count": 33,
   "metadata": {},
   "outputs": [
    {
     "name": "stdout",
     "output_type": "stream",
     "text": [
      "Array saved to 'array.txt'\n"
     ]
    }
   ],
   "source": [
    "# Numpy t text file\n",
    "import numpy as np\n",
    "\n",
    "\n",
    "array = np.array([[10, 20, 30], [40, 50, 60], [70, 80, 90]])\n",
    "\n",
    "# Save the array to a text file\n",
    "np.savetxt(\"array.txt\", array, fmt=\"%d\")  \n",
    "\n",
    "print(\"Array saved to 'array.txt'\")"
   ]
  },
  {
   "cell_type": "code",
   "execution_count": 35,
   "metadata": {},
   "outputs": [
    {
     "name": "stdout",
     "output_type": "stream",
     "text": [
      "new flattened array :[10 20 30 20 40 50]\n"
     ]
    }
   ],
   "source": [
    "#17) contiguous flattended array\n",
    "arr = np.array([[10,20,30],[20,40,50]])\n",
    "arr_flattended = arr.flatten()\n",
    "\n",
    "print(f\"new flattened array :{arr_flattended}\")\n",
    "\n"
   ]
  },
  {
   "cell_type": "code",
   "execution_count": 37,
   "metadata": {},
   "outputs": [
    {
     "name": "stdout",
     "output_type": "stream",
     "text": [
      "Data type of the array arr id:int64\n",
      "new type of the array arr id:float64\n"
     ]
    }
   ],
   "source": [
    "#18) to change data type\n",
    "arr = np.array([[2,4,6],[6,8,10]])\n",
    "print(f\"Data type of the array arr id:{arr.dtype}\")\n",
    "arr2 = arr.astype(np.float64)\n",
    "print(f\"new type of the array arr id:{arr2.dtype}\")\n",
    "\n"
   ]
  },
  {
   "cell_type": "code",
   "execution_count": 38,
   "metadata": {},
   "outputs": [
    {
     "name": "stdout",
     "output_type": "stream",
     "text": [
      "[[1. 0. 0.]\n",
      " [0. 1. 0.]\n",
      " [0. 0. 1.]]\n"
     ]
    }
   ],
   "source": [
    "# 19) 3-d array \n",
    "import numpy as np\n",
    "\n",
    "\n",
    "array_3d = np.eye(3)\n",
    "\n",
    "\n",
    "print(array_3d)\n",
    "\n"
   ]
  },
  {
   "cell_type": "code",
   "execution_count": 39,
   "metadata": {},
   "outputs": [
    {
     "name": "stdout",
     "output_type": "stream",
     "text": [
      "[[0. 0. 0.]\n",
      " [1. 0. 0.]\n",
      " [1. 1. 0.]\n",
      " [1. 1. 1.]]\n"
     ]
    }
   ],
   "source": [
    "#20) array\n",
    "import numpy as np\n",
    "\n",
    "# Define the required array\n",
    "array = np.array([\n",
    "    [0., 0., 0.],\n",
    "    [1., 0., 0.],\n",
    "    [1., 1., 0.],\n",
    "    [1., 1., 1.]\n",
    "])\n",
    "\n",
    "# Print the array\n",
    "print(array)\n"
   ]
  },
  {
   "cell_type": "code",
   "execution_count": 40,
   "metadata": {},
   "outputs": [
    {
     "name": "stdout",
     "output_type": "stream",
     "text": [
      "[[ 0  1  3  0  2  4]\n",
      " [ 5  7  9  6  8 10]]\n"
     ]
    }
   ],
   "source": [
    "#21) two dimensional array\n",
    "import numpy as np\n",
    "\n",
    "# Define the two sample arrays\n",
    "array1 = np.array([[0, 1, 3], [5, 7, 9]])\n",
    "array2 = np.array([[0, 2, 4], [6, 8, 10]])\n",
    "\n",
    "\n",
    "concatenated_array = np.concatenate((array1, array2), axis=1)\n",
    "\n",
    "\n",
    "print(concatenated_array)\n"
   ]
  },
  {
   "cell_type": "code",
   "execution_count": 41,
   "metadata": {},
   "outputs": [
    {
     "name": "stdout",
     "output_type": "stream",
     "text": [
      "Original array elements:\n",
      "[[ 0  1  2  3]\n",
      " [ 4  5  6  7]\n",
      " [ 8  9 10 11]]\n",
      "\n",
      "New array elements:\n",
      "[[ 0  3  6  9]\n",
      " [12 15 18 21]\n",
      " [24 27 30 33]]\n"
     ]
    }
   ],
   "source": [
    "#22) array of shape(3,4)\n",
    "import numpy as np\n",
    "\n",
    "\n",
    "original_array = np.arange(12).reshape(3, 4)\n",
    "\n",
    "print(\"Original array elements:\")\n",
    "print(original_array)\n",
    "\n",
    "\n",
    "new_array = original_array * 3\n",
    "\n",
    "print(\"\\nNew array elements:\")\n",
    "print(new_array)\n",
    "\n"
   ]
  },
  {
   "cell_type": "code",
   "execution_count": 42,
   "metadata": {},
   "outputs": [
    {
     "name": "stdout",
     "output_type": "stream",
     "text": [
      "Original array elements:\n",
      "[[0 1]\n",
      " [2 3]\n",
      " [4 5]]\n",
      "\n",
      "Array to list:\n",
      "[[0, 1], [2, 3], [4, 5]]\n"
     ]
    }
   ],
   "source": [
    "#23) numpy into python\n",
    "import numpy as np\n",
    "\n",
    "\n",
    "array = np.array([[0, 1], [2, 3], [4, 5]])\n",
    "\n",
    "print(\"Original array elements:\")\n",
    "print(array)\n",
    "\n",
    "\n",
    "array_list = array.tolist()\n",
    "\n",
    "print(\"\\nArray to list:\")\n",
    "print(array_list)\n",
    "\n",
    "\n"
   ]
  },
  {
   "cell_type": "code",
   "execution_count": 43,
   "metadata": {},
   "outputs": [
    {
     "name": "stdout",
     "output_type": "stream",
     "text": [
      "Original array elements:\n",
      "[0.58401828 0.91456947 0.3014086  0.15992005 0.86063765 0.41475301\n",
      " 0.69726742 0.52858054 0.10540245 0.27719942]\n",
      "\n",
      "Print array values with precision 3:\n",
      "[0.584 0.915 0.301 0.16  0.861 0.415 0.697 0.529 0.105 0.277]\n"
     ]
    }
   ],
   "source": [
    "#24) with precision 3\n",
    "import numpy as np\n",
    "\n",
    "\n",
    "array = np.random.rand(10)  \n",
    "\n",
    "print(\"Original array elements:\")\n",
    "print(array)\n",
    "\n",
    "\n",
    "array_list = array.tolist()\n",
    "\n",
    "\n",
    "np.set_printoptions(precision=3)\n",
    "\n",
    "print(\"\\nPrint array values with precision 3:\")\n",
    "print(array)\n",
    "\n"
   ]
  },
  {
   "cell_type": "code",
   "execution_count": 44,
   "metadata": {},
   "outputs": [
    {
     "name": "stdout",
     "output_type": "stream",
     "text": [
      "Original array elements:\n",
      "[1.60e-10 1.60e+00 1.20e+03 2.35e-01]\n",
      "\n",
      "Print array values with precision 3:\n",
      "[   0.       1.6   1200.       0.235]\n"
     ]
    }
   ],
   "source": [
    "# 25) scientific notation \n",
    "import numpy as np\n",
    "\n",
    "\n",
    "array = np.array([1.6e-10, 1.6, 1.2e3, 2.35e-1])\n",
    "\n",
    "print(\"Original array elements:\")\n",
    "print(array)\n",
    "\n",
    "\n",
    "np.set_printoptions(suppress=True, precision=3)\n",
    "\n",
    "print(\"\\nPrint array values with precision 3:\")\n",
    "print(array)\n"
   ]
  },
  {
   "cell_type": "code",
   "execution_count": 45,
   "metadata": {},
   "outputs": [
    {
     "name": "stdout",
     "output_type": "stream",
     "text": [
      "[[ 10  20  30 100]\n",
      " [ 40  50  60 200]]\n"
     ]
    }
   ],
   "source": [
    "#26) to add extra column\n",
    "import numpy as np\n",
    "\n",
    "\n",
    "array = np.array([[10, 20, 30], [40, 50, 60]])\n",
    "\n",
    "extra_column = np.array([[100], [200]])  \n",
    "\n",
    "\n",
    "new_array = np.hstack((array, extra_column))\n",
    "\n",
    "print(new_array)\n",
    "\n"
   ]
  },
  {
   "cell_type": "code",
   "execution_count": null,
   "metadata": {},
   "outputs": [
    {
     "name": "stdout",
     "output_type": "stream",
     "text": [
      "Original array:\n",
      "[ 10  20  30  40  50  60  70  80  90 100]\n",
      "\n",
      "Delete first, fourth, and fifth elements:\n",
      "[ 20  30  60  70  80  90 100]\n"
     ]
    }
   ],
   "source": [
    "#27) remove specific elements\n",
    "import numpy as np\n",
    "\n",
    "\n",
    "array = np.array([10, 20, 30, 40, 50, 60, 70, 80, 90, 100])\n",
    "\n",
    "print(\"Original array:\")\n",
    "print(array)\n",
    "\n",
    "\n",
    "indices_to_remove = [0, 3, 4]\n",
    "\n",
    "\n",
    "new_array = np.delete(array, indices_to_remove)\n",
    "\n",
    "print(\"\\nDelete first, fourth, and fifth elements:\")\n",
    "print(new_array)\n",
    "\n",
    "\n"
   ]
  }
 ],
 "metadata": {
  "kernelspec": {
   "display_name": "Python 3",
   "language": "python",
   "name": "python3"
  },
  "language_info": {
   "codemirror_mode": {
    "name": "ipython",
    "version": 3
   },
   "file_extension": ".py",
   "mimetype": "text/x-python",
   "name": "python",
   "nbconvert_exporter": "python",
   "pygments_lexer": "ipython3",
   "version": "3.13.2"
  }
 },
 "nbformat": 4,
 "nbformat_minor": 2
}
